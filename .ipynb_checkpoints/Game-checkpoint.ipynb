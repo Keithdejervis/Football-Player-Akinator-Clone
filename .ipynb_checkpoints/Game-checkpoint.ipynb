{
 "cells": [
  {
   "cell_type": "code",
   "execution_count": 38,
   "metadata": {},
   "outputs": [
    {
     "name": "stdout",
     "output_type": "stream",
     "text": [
      "Question 1: Is the player's age 35?\n"
     ]
    },
    {
     "name": "stdin",
     "output_type": "stream",
     "text": [
      "Respond with either yes(y), no(n), probably yes(py), probably no(pn), I don't know (idk): y\n"
     ]
    },
    {
     "name": "stdout",
     "output_type": "stream",
     "text": [
      "Question 2: Is the player's club Paris Saint-Germain?\n"
     ]
    },
    {
     "name": "stdin",
     "output_type": "stream",
     "text": [
      "Respond with either yes(y), no(n), probably yes(py), probably no(pn), I don't know (idk): y\n"
     ]
    },
    {
     "name": "stdout",
     "output_type": "stream",
     "text": [
      "Question 3: Is the player's foot Left?\n"
     ]
    },
    {
     "name": "stdin",
     "output_type": "stream",
     "text": [
      "Respond with either yes(y), no(n), probably yes(py), probably no(pn), I don't know (idk): y\n"
     ]
    },
    {
     "name": "stdout",
     "output_type": "stream",
     "text": [
      "The player guessed is L. Messi!\n"
     ]
    }
   ],
   "source": [
    "import pandas as pd\n",
    "from sklearn.tree import DecisionTreeClassifier\n",
    "from sklearn.preprocessing import LabelEncoder\n",
    "import math\n",
    "import random\n",
    "\n",
    "def entropyFunct(column):\n",
    "    valueOccurence = column.value_counts()\n",
    "    totalColumnElements = len(column)\n",
    "\n",
    "    entropyCalc = -sum((count / totalColumnElements) * math.log2(count / totalColumnElements) for count in valueOccurence)\n",
    "    return entropyCalc\n",
    "\n",
    "def informationGainFunct(data, feature, targetCol):\n",
    "    initialEntropy = entropyFunct(data[targetCol])\n",
    "\n",
    "    distinctValues = data[feature].unique()\n",
    "    conditionalEntropy = 0\n",
    "\n",
    "    for value in distinctValues:\n",
    "        subset = data[data[feature] == value]\n",
    "        weight = len(subset) / len(data)\n",
    "        conditionalEntropy += weight * entropyFunct(subset[targetCol])\n",
    "\n",
    "    informationGainCalc = initialEntropy - conditionalEntropy\n",
    "    return informationGainCalc\n",
    "\n",
    "def questions(currentData, targetCol):\n",
    "    features = ['nationality', 'club', 'position', 'age', 'jersey number', 'height', 'weight', 'foot', 'start', 'end']\n",
    "    validFeatures = [featr for featr in features if featr in currentData.columns and len(currentData[featr].unique()) > 1]\n",
    "\n",
    "    if validFeatures:\n",
    "        #Informstion gain for all features\n",
    "        informationGain = [(feature, informationGainFunct(currentData, feature, targetCol)) for feature in validFeatures]\n",
    "\n",
    "        #Randomness of features\n",
    "        random.shuffle(informationGain)\n",
    "\n",
    "        maximisedGainFeature = random.choice(informationGain)[0]\n",
    "\n",
    "        return maximisedGainFeature\n",
    "    else:\n",
    "        return None\n",
    "\n",
    "def encodeCatCols(data, columns):\n",
    "    encodedData = data.copy()\n",
    "    labelEncoder = LabelEncoder()\n",
    "\n",
    "    for column in columns:\n",
    "        if encodedData[column].dtype == 'object':\n",
    "            encodedData[column] = labelEncoder.fit_transform(encodedData[column])\n",
    "\n",
    "    return encodedData\n",
    "\n",
    "def guessingGameModel(data, targetCol, chosenCols):\n",
    "    encodedData = encodeCatCols(data, chosenCols)\n",
    "\n",
    "    #Splitting into target and features\n",
    "    features = encodedData[chosenCols]\n",
    "    target = encodedData[targetCol]\n",
    "\n",
    "    #Training the cassifier\n",
    "    model = DecisionTreeClassifier(random_state=42)\n",
    "    model.fit(features, target)\n",
    "\n",
    "    return model\n",
    "\n",
    "def prediction(model, data, chosenCols):\n",
    "    if data is not None:\n",
    "        \n",
    "        elements = data[chosenCols].iloc[0].values.reshape(1, -1)\n",
    "        prediction = model.predict(elements)[0]\n",
    "        return prediction\n",
    "    else:\n",
    "        return None\n",
    "\n",
    "def filterDataset(data, question, answer):\n",
    "\n",
    "    if data is not None:\n",
    "        if answer == 'y':\n",
    "            return data[data[question] == data[question].iloc[0]]\n",
    "        elif answer == 'n':\n",
    "            return data[data[question] != data[question].iloc[0]]\n",
    "        elif answer == 'py':\n",
    "            return data[data[question] == data[question].iloc[0]]\n",
    "        elif answer == 'pn':\n",
    "            return data[data[question] != data[question].iloc[0]]\n",
    "\n",
    "             # Return None if the user doesn't know\n",
    "    else:\n",
    "        return None\n",
    "\n",
    "def mainGame(data, model, chosenCols):\n",
    "    currentData = data.copy()\n",
    "    targetCol = 'short_name'\n",
    "\n",
    "    for noOfQuestions in range(1, 21):  #20 questions\n",
    "        footballQuest = questions(currentData, targetCol)\n",
    "\n",
    "        if footballQuest is None or len(currentData) == 1:\n",
    "            print(\"The player could not be guessed.\")\n",
    "            break\n",
    "\n",
    "        columnValue = currentData[footballQuest].iloc[0]\n",
    "        print(f\"Question {noOfQuestions}: Is the player's {footballQuest} {columnValue}?\")\n",
    "\n",
    "        userAnswer = input(\"Respond with either yes(y), no(n), probably yes(py), probably no(pn), I don't know (idk):\").lower()\n",
    "\n",
    "        while userAnswer not in ['y', 'n', 'py', 'pn', \"idk\"]:\n",
    "            print(\"Please try again with a valid response.\")\n",
    "            userAnswer = input(\"Respond with either yes(y), no(n), probably yes(py), probably no(pn), I don't know (idk):\").lower()\n",
    "\n",
    "        if userAnswer == \"idk\":\n",
    "            continue  #If the response is 'idk', then skip\n",
    "\n",
    "        currentData = filterDataset(currentData, footballQuest, userAnswer)\n",
    "\n",
    "        if currentData is not None and len(currentData) == 1:\n",
    "            print(f\"The player guessed is {currentData[targetCol].iloc[0]}!\")\n",
    "            break\n",
    "\n",
    "        if noOfQuestions == 20:\n",
    "            encodedDataForPrediction = encodeCols(currentData, chosenCols)\n",
    "            prediction_result = prediction(model, encodedDataForPrediction, chosenCols)\n",
    "            print(f\"The final guess is {prediction_result}.\")\n",
    "            break  \n",
    "\n",
    "\n",
    "#Loasding the players data set\n",
    "df = pd.read_csv('players.csv')\n",
    "\n",
    "# Suitably chosen columns from the data set to be used to ask questions\n",
    "chosenDataCols = ['nationality', 'club', 'position', 'age', 'jersey number', 'height', 'weight', 'foot', 'start', 'end']  # Replace with your chosen columns\n",
    "\n",
    "guessingModel = guessingGameModel(df, 'short_name', chosenDataCols)\n",
    "\n",
    "mainGame(df, guessingModel, chosenDataCols)"
   ]
  },
  {
   "cell_type": "code",
   "execution_count": null,
   "metadata": {},
   "outputs": [],
   "source": []
  },
  {
   "cell_type": "code",
   "execution_count": null,
   "metadata": {},
   "outputs": [],
   "source": []
  }
 ],
 "metadata": {
  "colab": {
   "provenance": []
  },
  "kernelspec": {
   "display_name": "Python 3 (ipykernel)",
   "language": "python",
   "name": "python3"
  },
  "language_info": {
   "codemirror_mode": {
    "name": "ipython",
    "version": 3
   },
   "file_extension": ".py",
   "mimetype": "text/x-python",
   "name": "python",
   "nbconvert_exporter": "python",
   "pygments_lexer": "ipython3",
   "version": "3.11.6"
  }
 },
 "nbformat": 4,
 "nbformat_minor": 4
}
